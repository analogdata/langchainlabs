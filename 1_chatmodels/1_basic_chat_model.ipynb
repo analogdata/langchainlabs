{
 "cells": [
  {
   "cell_type": "code",
   "execution_count": 1,
   "metadata": {},
   "outputs": [],
   "source": [
    "# Chat Model Documents: https://python.langchain.com/v0.2/docs/integrations/chat/\n",
    "# OpenAI Chat Model Documents: https://python.langchain.com/v0.2/docs/integrations/chat/openai/\n",
    "\n",
    "import os\n",
    "from dotenv import load_dotenv\n",
    "from langchain_openai import ChatOpenAI"
   ]
  },
  {
   "cell_type": "code",
   "execution_count": 2,
   "metadata": {},
   "outputs": [
    {
     "data": {
      "text/plain": [
       "True"
      ]
     },
     "execution_count": 2,
     "metadata": {},
     "output_type": "execute_result"
    }
   ],
   "source": [
    "load_dotenv(dotenv_path=\"../.env\")"
   ]
  },
  {
   "cell_type": "code",
   "execution_count": 3,
   "metadata": {},
   "outputs": [],
   "source": [
    "model = ChatOpenAI(model=\"gpt-4o\")"
   ]
  },
  {
   "cell_type": "code",
   "execution_count": 4,
   "metadata": {},
   "outputs": [],
   "source": [
    "result = model.invoke(\"What is Langchain?\")"
   ]
  },
  {
   "cell_type": "code",
   "execution_count": 5,
   "metadata": {},
   "outputs": [
    {
     "data": {
      "text/plain": [
       "\"LangChain is a framework designed to facilitate the development of applications that leverage large language models (LLMs). It provides a comprehensive suite of tools and components that can be utilized for a variety of purposes, including but not limited to:\\n\\n1. **Prompt Management**: Tools for creating, managing, and optimizing prompts for LLMs.\\n2. **Chains**: Building sequences of calls to LLMs or other utilities to accomplish complex tasks.\\n3. **Data Augmented Generation**: Integrating external data sources with LLMs to enhance their responses.\\n4. **Agents**: Enabling LLMs to interact with other applications or environments.\\n5. **Memory**: Adding statefulness to LLM interactions, allowing for context-aware responses over time.\\n6. **Evaluation**: Tools for assessing the performance and accuracy of LLM outputs.\\n\\nLangChain's modular approach means that developers can pick and choose the components they need for their specific use case, whether it be for chatbots, data analysis, content generation, or any other application that can benefit from the capabilities of large language models.\\n\\nThe framework is particularly useful for developers looking to integrate advanced language understanding and generation features into their applications without having to build everything from scratch. It abstracts much of the complexity involved in working with LLMs, making it more accessible and easier to implement sophisticated language-based functionalities.\""
      ]
     },
     "execution_count": 5,
     "metadata": {},
     "output_type": "execute_result"
    }
   ],
   "source": [
    "result.content"
   ]
  }
 ],
 "metadata": {
  "kernelspec": {
   "display_name": ".venv",
   "language": "python",
   "name": "python3"
  },
  "language_info": {
   "codemirror_mode": {
    "name": "ipython",
    "version": 3
   },
   "file_extension": ".py",
   "mimetype": "text/x-python",
   "name": "python",
   "nbconvert_exporter": "python",
   "pygments_lexer": "ipython3",
   "version": "3.12.4"
  }
 },
 "nbformat": 4,
 "nbformat_minor": 2
}
